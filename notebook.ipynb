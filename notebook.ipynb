{
 "cells": [
  {
   "cell_type": "code",
   "execution_count": 135,
   "outputs": [],
   "source": [
    "import os\n",
    "import pandas as pd\n",
    "from extraction import FemTransform\n",
    "import settings\n",
    "import numpy as np\n",
    "import func"
   ],
   "metadata": {
    "collapsed": false
   }
  },
  {
   "cell_type": "code",
   "execution_count": 138,
   "outputs": [
    {
     "name": "stdout",
     "output_type": "stream",
     "text": [
      "\n",
      "Files in \"/Users/ivanov.ev/Work/Dashboard/fem/results\" displayed below\n",
      "--------------\n",
      "1. extraction_09102022.xlsx\n",
      "--------------\n",
      "\n"
     ]
    },
    {
     "data": {
      "text/plain": "['extraction_09102022.xlsx']"
     },
     "execution_count": 138,
     "metadata": {},
     "output_type": "execute_result"
    }
   ],
   "source": [
    "func.list_files_in_folder(settings.fem_folder_save)"
   ],
   "metadata": {
    "collapsed": false
   }
  },
  {
   "cell_type": "code",
   "execution_count": 142,
   "outputs": [],
   "source": [
    "data = pd.ExcelFile(os.path.join(settings.fem_folder_save,\n",
    "                                 'extraction_09102022.xlsx')).parse(settings.fem_sheet_name)"
   ],
   "metadata": {
    "collapsed": false
   }
  },
  {
   "cell_type": "code",
   "execution_count": 143,
   "outputs": [
    {
     "data": {
      "text/plain": "                                          programme        code  \\\n0  УПРАВЛЕНИЕ ВЗАИМООТНОШЕНИЯМИ  С ПОДРЯДЧИКАМИ БРД  U200001737   \n1  УПРАВЛЕНИЕ ВЗАИМООТНОШЕНИЯМИ  С ПОДРЯДЧИКАМИ БРД  U200001737   \n2  УПРАВЛЕНИЕ ВЗАИМООТНОШЕНИЯМИ  С ПОДРЯДЧИКАМИ БРД  U220002107   \n3  УПРАВЛЕНИЕ ВЗАИМООТНОШЕНИЯМИ  С ПОДРЯДЧИКАМИ БРД  U220002107   \n4  УПРАВЛЕНИЕ ВЗАИМООТНОШЕНИЯМИ  С ПОДРЯДЧИКАМИ БРД         NaN   \n\n                            project   typecf  \\\n0  «Развитие Системы рейтингования»  Затраты   \n1  «Развитие Системы рейтингования»  Затраты   \n2     Личный кабинет подрядчика 2.0  Затраты   \n3     Личный кабинет подрядчика 2.0  Затраты   \n4            Уберизация закупок БРД  Затраты   \n\n                                      subtypecf                dzo  year  \\\n0                  Капитальные затраты (CAPEX):  ПАО Газпром нефть  2020   \n1                  Капитальные затраты (CAPEX):  ПАО Газпром нефть  2021   \n2  Операционные затраты (OPEX):капитализируемые  ПАО Газпром нефть  2022   \n3                  Операционные затраты (OPEX):  ПАО Газпром нефть  2022   \n4                  Операционные затраты (OPEX):  ПАО Газпром нефть  2022   \n\n      value input_file  \n0  2.099999   УВП.xlsm  \n1  0.921878   УВП.xlsm  \n2  5.600000   УВП.xlsm  \n3  3.800000   УВП.xlsm  \n4  3.800000   УВП.xlsm  ",
      "text/html": "<div>\n<style scoped>\n    .dataframe tbody tr th:only-of-type {\n        vertical-align: middle;\n    }\n\n    .dataframe tbody tr th {\n        vertical-align: top;\n    }\n\n    .dataframe thead th {\n        text-align: right;\n    }\n</style>\n<table border=\"1\" class=\"dataframe\">\n  <thead>\n    <tr style=\"text-align: right;\">\n      <th></th>\n      <th>programme</th>\n      <th>code</th>\n      <th>project</th>\n      <th>typecf</th>\n      <th>subtypecf</th>\n      <th>dzo</th>\n      <th>year</th>\n      <th>value</th>\n      <th>input_file</th>\n    </tr>\n  </thead>\n  <tbody>\n    <tr>\n      <th>0</th>\n      <td>УПРАВЛЕНИЕ ВЗАИМООТНОШЕНИЯМИ  С ПОДРЯДЧИКАМИ БРД</td>\n      <td>U200001737</td>\n      <td>«Развитие Системы рейтингования»</td>\n      <td>Затраты</td>\n      <td>Капитальные затраты (CAPEX):</td>\n      <td>ПАО Газпром нефть</td>\n      <td>2020</td>\n      <td>2.099999</td>\n      <td>УВП.xlsm</td>\n    </tr>\n    <tr>\n      <th>1</th>\n      <td>УПРАВЛЕНИЕ ВЗАИМООТНОШЕНИЯМИ  С ПОДРЯДЧИКАМИ БРД</td>\n      <td>U200001737</td>\n      <td>«Развитие Системы рейтингования»</td>\n      <td>Затраты</td>\n      <td>Капитальные затраты (CAPEX):</td>\n      <td>ПАО Газпром нефть</td>\n      <td>2021</td>\n      <td>0.921878</td>\n      <td>УВП.xlsm</td>\n    </tr>\n    <tr>\n      <th>2</th>\n      <td>УПРАВЛЕНИЕ ВЗАИМООТНОШЕНИЯМИ  С ПОДРЯДЧИКАМИ БРД</td>\n      <td>U220002107</td>\n      <td>Личный кабинет подрядчика 2.0</td>\n      <td>Затраты</td>\n      <td>Операционные затраты (OPEX):капитализируемые</td>\n      <td>ПАО Газпром нефть</td>\n      <td>2022</td>\n      <td>5.600000</td>\n      <td>УВП.xlsm</td>\n    </tr>\n    <tr>\n      <th>3</th>\n      <td>УПРАВЛЕНИЕ ВЗАИМООТНОШЕНИЯМИ  С ПОДРЯДЧИКАМИ БРД</td>\n      <td>U220002107</td>\n      <td>Личный кабинет подрядчика 2.0</td>\n      <td>Затраты</td>\n      <td>Операционные затраты (OPEX):</td>\n      <td>ПАО Газпром нефть</td>\n      <td>2022</td>\n      <td>3.800000</td>\n      <td>УВП.xlsm</td>\n    </tr>\n    <tr>\n      <th>4</th>\n      <td>УПРАВЛЕНИЕ ВЗАИМООТНОШЕНИЯМИ  С ПОДРЯДЧИКАМИ БРД</td>\n      <td>NaN</td>\n      <td>Уберизация закупок БРД</td>\n      <td>Затраты</td>\n      <td>Операционные затраты (OPEX):</td>\n      <td>ПАО Газпром нефть</td>\n      <td>2022</td>\n      <td>3.800000</td>\n      <td>УВП.xlsm</td>\n    </tr>\n  </tbody>\n</table>\n</div>"
     },
     "execution_count": 143,
     "metadata": {},
     "output_type": "execute_result"
    }
   ],
   "source": [
    "data.head()"
   ],
   "metadata": {
    "collapsed": false
   }
  },
  {
   "cell_type": "code",
   "execution_count": 166,
   "outputs": [],
   "source": [
    "today_year = 2022\n",
    "far_future_after = 2025\n",
    "\n",
    "bins = [2022, 2025, 2030]\n",
    "bins_labels = ['бл. будущее', 'далекое будущее']\n",
    "\n",
    "data_slice = data[['year', 'value']]"
   ],
   "metadata": {
    "collapsed": false
   }
  },
  {
   "cell_type": "code",
   "execution_count": 167,
   "outputs": [
    {
     "name": "stderr",
     "output_type": "stream",
     "text": [
      "/var/folders/c4/8t91mr493fv14ypfd7mxbcc00000gn/T/ipykernel_76206/4107957821.py:1: SettingWithCopyWarning: \n",
      "A value is trying to be set on a copy of a slice from a DataFrame.\n",
      "Try using .loc[row_indexer,col_indexer] = value instead\n",
      "\n",
      "See the caveats in the documentation: https://pandas.pydata.org/pandas-docs/stable/user_guide/indexing.html#returning-a-view-versus-a-copy\n",
      "  data_slice['new'] = pd.cut(data_slice['year'], bins, labels=bins_labels)\n"
     ]
    }
   ],
   "source": [
    "data_slice['new'] = pd.cut(data_slice['year'], bins, labels=bins_labels)"
   ],
   "metadata": {
    "collapsed": false
   }
  },
  {
   "cell_type": "code",
   "execution_count": 162,
   "outputs": [
    {
     "data": {
      "text/plain": "      year       value              new\n0     2020    2.099999              NaN\n1     2021    0.921878              NaN\n2     2022    5.600000              NaN\n3     2022    3.800000              NaN\n4     2022    3.800000              NaN\n...    ...         ...              ...\n8717  2029   14.708174  далекое будущее\n8718  2029   10.237489  далекое будущее\n8719  2029    1.320750  далекое будущее\n8720  2029  117.435409  далекое будущее\n8721  2029  366.175660  далекое будущее\n\n[8722 rows x 3 columns]",
      "text/html": "<div>\n<style scoped>\n    .dataframe tbody tr th:only-of-type {\n        vertical-align: middle;\n    }\n\n    .dataframe tbody tr th {\n        vertical-align: top;\n    }\n\n    .dataframe thead th {\n        text-align: right;\n    }\n</style>\n<table border=\"1\" class=\"dataframe\">\n  <thead>\n    <tr style=\"text-align: right;\">\n      <th></th>\n      <th>year</th>\n      <th>value</th>\n      <th>new</th>\n    </tr>\n  </thead>\n  <tbody>\n    <tr>\n      <th>0</th>\n      <td>2020</td>\n      <td>2.099999</td>\n      <td>NaN</td>\n    </tr>\n    <tr>\n      <th>1</th>\n      <td>2021</td>\n      <td>0.921878</td>\n      <td>NaN</td>\n    </tr>\n    <tr>\n      <th>2</th>\n      <td>2022</td>\n      <td>5.600000</td>\n      <td>NaN</td>\n    </tr>\n    <tr>\n      <th>3</th>\n      <td>2022</td>\n      <td>3.800000</td>\n      <td>NaN</td>\n    </tr>\n    <tr>\n      <th>4</th>\n      <td>2022</td>\n      <td>3.800000</td>\n      <td>NaN</td>\n    </tr>\n    <tr>\n      <th>...</th>\n      <td>...</td>\n      <td>...</td>\n      <td>...</td>\n    </tr>\n    <tr>\n      <th>8717</th>\n      <td>2029</td>\n      <td>14.708174</td>\n      <td>далекое будущее</td>\n    </tr>\n    <tr>\n      <th>8718</th>\n      <td>2029</td>\n      <td>10.237489</td>\n      <td>далекое будущее</td>\n    </tr>\n    <tr>\n      <th>8719</th>\n      <td>2029</td>\n      <td>1.320750</td>\n      <td>далекое будущее</td>\n    </tr>\n    <tr>\n      <th>8720</th>\n      <td>2029</td>\n      <td>117.435409</td>\n      <td>далекое будущее</td>\n    </tr>\n    <tr>\n      <th>8721</th>\n      <td>2029</td>\n      <td>366.175660</td>\n      <td>далекое будущее</td>\n    </tr>\n  </tbody>\n</table>\n<p>8722 rows × 3 columns</p>\n</div>"
     },
     "execution_count": 162,
     "metadata": {},
     "output_type": "execute_result"
    }
   ],
   "source": [
    "data_slice"
   ],
   "metadata": {
    "collapsed": false
   }
  },
  {
   "cell_type": "code",
   "execution_count": null,
   "outputs": [],
   "source": [],
   "metadata": {
    "collapsed": false
   }
  }
 ],
 "metadata": {
  "kernelspec": {
   "display_name": "Python 3",
   "language": "python",
   "name": "python3"
  },
  "language_info": {
   "codemirror_mode": {
    "name": "ipython",
    "version": 2
   },
   "file_extension": ".py",
   "mimetype": "text/x-python",
   "name": "python",
   "nbconvert_exporter": "python",
   "pygments_lexer": "ipython2",
   "version": "2.7.6"
  }
 },
 "nbformat": 4,
 "nbformat_minor": 0
}

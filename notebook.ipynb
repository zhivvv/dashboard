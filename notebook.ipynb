{
 "cells": [
  {
   "cell_type": "code",
   "execution_count": 135,
   "outputs": [],
   "source": [
    "import os\n",
    "import pandas as pd\n",
    "from extraction import FemTransform\n",
    "import settings\n",
    "import numpy as np\n",
    "import func"
   ],
   "metadata": {
    "collapsed": false
   }
  },
  {
   "cell_type": "code",
   "execution_count": 138,
   "outputs": [
    {
     "name": "stdout",
     "output_type": "stream",
     "text": [
      "\n",
      "Files in \"/Users/ivanov.ev/Work/Dashboard/fem/results\" displayed below\n",
      "--------------\n",
      "1. extraction_09102022.xlsx\n",
      "--------------\n",
      "\n"
     ]
    },
    {
     "data": {
      "text/plain": "['extraction_09102022.xlsx']"
     },
     "execution_count": 138,
     "metadata": {},
     "output_type": "execute_result"
    }
   ],
   "source": [
    "func.list_files_in_folder(settings.fem_folder_save)"
   ],
   "metadata": {
    "collapsed": false
   }
  },
  {
   "cell_type": "code",
   "execution_count": 142,
   "outputs": [],
   "source": [
    "data = pd.ExcelFile(os.path.join(settings.fem_folder_save,\n",
    "                                 'extraction_09102022.xlsx')).parse(settings.fem_sheet_name)"
   ],
   "metadata": {
    "collapsed": false
   }
  },
  {
   "cell_type": "code",
   "execution_count": 143,
   "outputs": [
    {
     "data": {
      "text/plain": "                                          programme        code  \\\n0  УПРАВЛЕНИЕ ВЗАИМООТНОШЕНИЯМИ  С ПОДРЯДЧИКАМИ БРД  U200001737   \n1  УПРАВЛЕНИЕ ВЗАИМООТНОШЕНИЯМИ  С ПОДРЯДЧИКАМИ БРД  U200001737   \n2  УПРАВЛЕНИЕ ВЗАИМООТНОШЕНИЯМИ  С ПОДРЯДЧИКАМИ БРД  U220002107   \n3  УПРАВЛЕНИЕ ВЗАИМООТНОШЕНИЯМИ  С ПОДРЯДЧИКАМИ БРД  U220002107   \n4  УПРАВЛЕНИЕ ВЗАИМООТНОШЕНИЯМИ  С ПОДРЯДЧИКАМИ БРД         NaN   \n\n                            project   typecf  \\\n0  «Развитие Системы рейтингования»  Затраты   \n1  «Развитие Системы рейтингования»  Затраты   \n2     Личный кабинет подрядчика 2.0  Затраты   \n3     Личный кабинет подрядчика 2.0  Затраты   \n4            Уберизация закупок БРД  Затраты   \n\n                                      subtypecf                dzo  year  \\\n0                  Капитальные затраты (CAPEX):  ПАО Газпром нефть  2020   \n1                  Капитальные затраты (CAPEX):  ПАО Газпром нефть  2021   \n2  Операционные затраты (OPEX):капитализируемые  ПАО Газпром нефть  2022   \n3                  Операционные затраты (OPEX):  ПАО Газпром нефть  2022   \n4                  Операционные затраты (OPEX):  ПАО Газпром нефть  2022   \n\n      value input_file  \n0  2.099999   УВП.xlsm  \n1  0.921878   УВП.xlsm  \n2  5.600000   УВП.xlsm  \n3  3.800000   УВП.xlsm  \n4  3.800000   УВП.xlsm  ",
      "text/html": "<div>\n<style scoped>\n    .dataframe tbody tr th:only-of-type {\n        vertical-align: middle;\n    }\n\n    .dataframe tbody tr th {\n        vertical-align: top;\n    }\n\n    .dataframe thead th {\n        text-align: right;\n    }\n</style>\n<table border=\"1\" class=\"dataframe\">\n  <thead>\n    <tr style=\"text-align: right;\">\n      <th></th>\n      <th>programme</th>\n      <th>code</th>\n      <th>project</th>\n      <th>typecf</th>\n      <th>subtypecf</th>\n      <th>dzo</th>\n      <th>year</th>\n      <th>value</th>\n      <th>input_file</th>\n    </tr>\n  </thead>\n  <tbody>\n    <tr>\n      <th>0</th>\n      <td>УПРАВЛЕНИЕ ВЗАИМООТНОШЕНИЯМИ  С ПОДРЯДЧИКАМИ БРД</td>\n      <td>U200001737</td>\n      <td>«Развитие Системы рейтингования»</td>\n      <td>Затраты</td>\n      <td>Капитальные затраты (CAPEX):</td>\n      <td>ПАО Газпром нефть</td>\n      <td>2020</td>\n      <td>2.099999</td>\n      <td>УВП.xlsm</td>\n    </tr>\n    <tr>\n      <th>1</th>\n      <td>УПРАВЛЕНИЕ ВЗАИМООТНОШЕНИЯМИ  С ПОДРЯДЧИКАМИ БРД</td>\n      <td>U200001737</td>\n      <td>«Развитие Системы рейтингования»</td>\n      <td>Затраты</td>\n      <td>Капитальные затраты (CAPEX):</td>\n      <td>ПАО Газпром нефть</td>\n      <td>2021</td>\n      <td>0.921878</td>\n      <td>УВП.xlsm</td>\n    </tr>\n    <tr>\n      <th>2</th>\n      <td>УПРАВЛЕНИЕ ВЗАИМООТНОШЕНИЯМИ  С ПОДРЯДЧИКАМИ БРД</td>\n      <td>U220002107</td>\n      <td>Личный кабинет подрядчика 2.0</td>\n      <td>Затраты</td>\n      <td>Операционные затраты (OPEX):капитализируемые</td>\n      <td>ПАО Газпром нефть</td>\n      <td>2022</td>\n      <td>5.600000</td>\n      <td>УВП.xlsm</td>\n    </tr>\n    <tr>\n      <th>3</th>\n      <td>УПРАВЛЕНИЕ ВЗАИМООТНОШЕНИЯМИ  С ПОДРЯДЧИКАМИ БРД</td>\n      <td>U220002107</td>\n      <td>Личный кабинет подрядчика 2.0</td>\n      <td>Затраты</td>\n      <td>Операционные затраты (OPEX):</td>\n      <td>ПАО Газпром нефть</td>\n      <td>2022</td>\n      <td>3.800000</td>\n      <td>УВП.xlsm</td>\n    </tr>\n    <tr>\n      <th>4</th>\n      <td>УПРАВЛЕНИЕ ВЗАИМООТНОШЕНИЯМИ  С ПОДРЯДЧИКАМИ БРД</td>\n      <td>NaN</td>\n      <td>Уберизация закупок БРД</td>\n      <td>Затраты</td>\n      <td>Операционные затраты (OPEX):</td>\n      <td>ПАО Газпром нефть</td>\n      <td>2022</td>\n      <td>3.800000</td>\n      <td>УВП.xlsm</td>\n    </tr>\n  </tbody>\n</table>\n</div>"
     },
     "execution_count": 143,
     "metadata": {},
     "output_type": "execute_result"
    }
   ],
   "source": [
    "data.head()"
   ],
   "metadata": {
    "collapsed": false
   }
  },
  {
   "cell_type": "code",
   "execution_count": 166,
   "outputs": [],
   "source": [
    "today_year = 2022\n",
    "far_future_after = 2025\n",
    "\n",
    "bins = [2022, 2025, 2030]\n",
    "bins_labels = ['бл. будущее', 'далекое будущее']\n",
    "\n",
    "data_slice = data[['year', 'value']]"
   ],
   "metadata": {
    "collapsed": false
   }
  },
  {
   "cell_type": "code",
   "execution_count": 167,
   "outputs": [
    {
     "name": "stderr",
     "output_type": "stream",
     "text": [
      "/var/folders/c4/8t91mr493fv14ypfd7mxbcc00000gn/T/ipykernel_76206/4107957821.py:1: SettingWithCopyWarning: \n",
      "A value is trying to be set on a copy of a slice from a DataFrame.\n",
      "Try using .loc[row_indexer,col_indexer] = value instead\n",
      "\n",
      "See the caveats in the documentation: https://pandas.pydata.org/pandas-docs/stable/user_guide/indexing.html#returning-a-view-versus-a-copy\n",
      "  data_slice['new'] = pd.cut(data_slice['year'], bins, labels=bins_labels)\n"
     ]
    }
   ],
   "source": [
    "data_slice['new'] = pd.cut(data_slice['year'], bins, labels=bins_labels)"
   ],
   "metadata": {
    "collapsed": false
   }
  },
  {
   "cell_type": "code",
   "execution_count": 162,
   "outputs": [
    {
     "data": {
      "text/plain": "      year       value              new\n0     2020    2.099999              NaN\n1     2021    0.921878              NaN\n2     2022    5.600000              NaN\n3     2022    3.800000              NaN\n4     2022    3.800000              NaN\n...    ...         ...              ...\n8717  2029   14.708174  далекое будущее\n8718  2029   10.237489  далекое будущее\n8719  2029    1.320750  далекое будущее\n8720  2029  117.435409  далекое будущее\n8721  2029  366.175660  далекое будущее\n\n[8722 rows x 3 columns]",
      "text/html": "<div>\n<style scoped>\n    .dataframe tbody tr th:only-of-type {\n        vertical-align: middle;\n    }\n\n    .dataframe tbody tr th {\n        vertical-align: top;\n    }\n\n    .dataframe thead th {\n        text-align: right;\n    }\n</style>\n<table border=\"1\" class=\"dataframe\">\n  <thead>\n    <tr style=\"text-align: right;\">\n      <th></th>\n      <th>year</th>\n      <th>value</th>\n      <th>new</th>\n    </tr>\n  </thead>\n  <tbody>\n    <tr>\n      <th>0</th>\n      <td>2020</td>\n      <td>2.099999</td>\n      <td>NaN</td>\n    </tr>\n    <tr>\n      <th>1</th>\n      <td>2021</td>\n      <td>0.921878</td>\n      <td>NaN</td>\n    </tr>\n    <tr>\n      <th>2</th>\n      <td>2022</td>\n      <td>5.600000</td>\n      <td>NaN</td>\n    </tr>\n    <tr>\n      <th>3</th>\n      <td>2022</td>\n      <td>3.800000</td>\n      <td>NaN</td>\n    </tr>\n    <tr>\n      <th>4</th>\n      <td>2022</td>\n      <td>3.800000</td>\n      <td>NaN</td>\n    </tr>\n    <tr>\n      <th>...</th>\n      <td>...</td>\n      <td>...</td>\n      <td>...</td>\n    </tr>\n    <tr>\n      <th>8717</th>\n      <td>2029</td>\n      <td>14.708174</td>\n      <td>далекое будущее</td>\n    </tr>\n    <tr>\n      <th>8718</th>\n      <td>2029</td>\n      <td>10.237489</td>\n      <td>далекое будущее</td>\n    </tr>\n    <tr>\n      <th>8719</th>\n      <td>2029</td>\n      <td>1.320750</td>\n      <td>далекое будущее</td>\n    </tr>\n    <tr>\n      <th>8720</th>\n      <td>2029</td>\n      <td>117.435409</td>\n      <td>далекое будущее</td>\n    </tr>\n    <tr>\n      <th>8721</th>\n      <td>2029</td>\n      <td>366.175660</td>\n      <td>далекое будущее</td>\n    </tr>\n  </tbody>\n</table>\n<p>8722 rows × 3 columns</p>\n</div>"
     },
     "execution_count": 162,
     "metadata": {},
     "output_type": "execute_result"
    }
   ],
   "source": [
    "data_slice"
   ],
   "metadata": {
    "collapsed": false
   }
  },
  {
   "cell_type": "code",
   "execution_count": 8,
   "outputs": [],
   "source": [
    "import pandas as pd\n",
    "import os\n",
    "import settings\n",
    "import func\n",
    "\n",
    "\n",
    "def report_process():\n",
    "    pass\n",
    "\n",
    "\n",
    "def choose_excel_file(folder_path, sheet_name=0):\n",
    "    file_path = os.path.join(folder_path, func.single_input_file(folder_path))\n",
    "    result = pd.ExcelFile(file_path).parse(sheet_name)\n",
    "    return result\n",
    "\n",
    "\n",
    "class Reports:\n",
    "\n",
    "    def __init__(self, fem_folder_results, mapping_folder_results):\n",
    "\n",
    "        self.fem: pd.DataFrame = choose_excel_file(fem_folder_results, sheet_name=settings.fem_sheet_name)\n",
    "        self.mapping: pd.DataFrame = choose_excel_file(mapping_folder_results, sheet_name=settings.mapping_sheet_name)\n",
    "        self.result = self.fem.copy(deep=True)\n",
    "\n",
    "    def apply_mapping_to_fem(self, fillna=True):\n",
    "        mapping_column_names = ['query', 'chosen']\n",
    "        columns_in_mapping = self.mapping.column.unique().tolist()\n",
    "\n",
    "        for fem_column in self.fem.columns:\n",
    "            if fem_column in columns_in_mapping:\n",
    "                temp_mapping = self.mapping.loc[self.mapping['column'] == fem_column,\n",
    "                                                mapping_column_names].copy()\n",
    "\n",
    "                temp_dict = (temp_mapping\n",
    "                             .set_index(mapping_column_names[0])[mapping_column_names[1]]\n",
    "                             .to_dict()\n",
    "                             )\n",
    "                self.result[fem_column] = self.result[fem_column].map(temp_dict)\n",
    "                if fillna:\n",
    "                    self.result[fem_column] = (self.result[fem_column]\n",
    "                                               .map(temp_dict)\n",
    "                                               .fillna(self.result[fem_column])\n",
    "                                               )\n",
    "                else:\n",
    "                    self.result[fem_column] = self.result[fem_column].map(temp_dict)\n",
    "\n",
    "            get_column_fem = self.fem[self.fem['']]\n",
    "            get_column_mapping = self.mapping[self.mapping['column'] == fem_column]\n",
    "\n",
    "            return self\n",
    "\n",
    "\n",
    "\n",
    "\n",
    "\n"
   ],
   "metadata": {
    "collapsed": false
   }
  },
  {
   "cell_type": "code",
   "execution_count": 14,
   "outputs": [
    {
     "name": "stdout",
     "output_type": "stream",
     "text": [
      "\n",
      "Files in \"/Users/ivanov.ev/Work/Dashboard/fem/results\" displayed below\n",
      "--------------\n",
      "1. extraction_10102022.xlsx\n",
      "2. extraction_09102022.xlsx\n",
      "--------------\n",
      "Choose one file (input a number)\n",
      "Blank values are not allowed.\n",
      "Blank values are not allowed.\n",
      "Blank values are not allowed.\n",
      "\n",
      "Files in \"/Users/ivanov.ev/Work/Dashboard/mapping/results\" displayed below\n",
      "--------------\n",
      "1. mapping_11102022.xlsx\n",
      "2. mapping_10102022.xlsx\n",
      "3. mapping_09102022.xlsx\n",
      "--------------\n",
      "Choose one file (input a number)\n"
     ]
    }
   ],
   "source": [
    "a = Reports(settings.fem_folder_results, settings.mapping_folder_results)"
   ],
   "metadata": {
    "collapsed": false
   }
  },
  {
   "cell_type": "code",
   "execution_count": 13,
   "outputs": [
    {
     "data": {
      "text/plain": "                                                 query  \\\n0     УПРАВЛЕНИЕ ВЗАИМООТНОШЕНИЯМИ  С ПОДРЯДЧИКАМИ БРД   \n1                            Долгосрочное развитие БРД   \n2                           Долгосрочное развитие БРД    \n3                                         Pro-Развитие   \n4                               Управление данными БРД   \n..                                                 ...   \n109                                 Оптимизация затрат   \n110  Повышение доходов от оказания услуг либо прода...   \n111                               Дополнительный доход   \n112                                              Налог   \n113         ННП (для расчета по косв. Эффектам и ТРИЭ)   \n\n                                                result    matched  score  \\\n0          Управление взаимоотношениями с подрядчиками    matched  84.59   \n1                                Долгосрочное развитие    matched  82.94   \n2                                Долгосрочное развитие    matched  82.94   \n3                                         PRO-Развитие    matched  99.00   \n4                                   Управление данными    matched  82.50   \n..                                                 ...        ...    ...   \n109                                 Оптимизация затрат    matched  99.00   \n110  Повышение доходов от оказания услуг либо прода...    matched  99.00   \n111                               Дополнительный доход    matched  99.00   \n112                                              Налог    matched  99.00   \n113                     ННП для расчета косв. эффектов  not found  52.69   \n\n        column              chosen  \n0    programme                 УВП  \n1    programme             АБ1: ДР  \n2    programme             АБ1: ДР  \n3    programme               Pro-Р  \n4    programme                 УПД  \n..         ...                 ...  \n109  subtypecf     Сокращение opex  \n110  subtypecf    Сторонние доходы  \n111  subtypecf  Изменение ДП от УВ  \n112  subtypecf                 tax  \n113  subtypecf                 tax  \n\n[114 rows x 6 columns]",
      "text/html": "<div>\n<style scoped>\n    .dataframe tbody tr th:only-of-type {\n        vertical-align: middle;\n    }\n\n    .dataframe tbody tr th {\n        vertical-align: top;\n    }\n\n    .dataframe thead th {\n        text-align: right;\n    }\n</style>\n<table border=\"1\" class=\"dataframe\">\n  <thead>\n    <tr style=\"text-align: right;\">\n      <th></th>\n      <th>query</th>\n      <th>result</th>\n      <th>matched</th>\n      <th>score</th>\n      <th>column</th>\n      <th>chosen</th>\n    </tr>\n  </thead>\n  <tbody>\n    <tr>\n      <th>0</th>\n      <td>УПРАВЛЕНИЕ ВЗАИМООТНОШЕНИЯМИ  С ПОДРЯДЧИКАМИ БРД</td>\n      <td>Управление взаимоотношениями с подрядчиками</td>\n      <td>matched</td>\n      <td>84.59</td>\n      <td>programme</td>\n      <td>УВП</td>\n    </tr>\n    <tr>\n      <th>1</th>\n      <td>Долгосрочное развитие БРД</td>\n      <td>Долгосрочное развитие</td>\n      <td>matched</td>\n      <td>82.94</td>\n      <td>programme</td>\n      <td>АБ1: ДР</td>\n    </tr>\n    <tr>\n      <th>2</th>\n      <td>Долгосрочное развитие БРД</td>\n      <td>Долгосрочное развитие</td>\n      <td>matched</td>\n      <td>82.94</td>\n      <td>programme</td>\n      <td>АБ1: ДР</td>\n    </tr>\n    <tr>\n      <th>3</th>\n      <td>Pro-Развитие</td>\n      <td>PRO-Развитие</td>\n      <td>matched</td>\n      <td>99.00</td>\n      <td>programme</td>\n      <td>Pro-Р</td>\n    </tr>\n    <tr>\n      <th>4</th>\n      <td>Управление данными БРД</td>\n      <td>Управление данными</td>\n      <td>matched</td>\n      <td>82.50</td>\n      <td>programme</td>\n      <td>УПД</td>\n    </tr>\n    <tr>\n      <th>...</th>\n      <td>...</td>\n      <td>...</td>\n      <td>...</td>\n      <td>...</td>\n      <td>...</td>\n      <td>...</td>\n    </tr>\n    <tr>\n      <th>109</th>\n      <td>Оптимизация затрат</td>\n      <td>Оптимизация затрат</td>\n      <td>matched</td>\n      <td>99.00</td>\n      <td>subtypecf</td>\n      <td>Сокращение opex</td>\n    </tr>\n    <tr>\n      <th>110</th>\n      <td>Повышение доходов от оказания услуг либо прода...</td>\n      <td>Повышение доходов от оказания услуг либо прода...</td>\n      <td>matched</td>\n      <td>99.00</td>\n      <td>subtypecf</td>\n      <td>Сторонние доходы</td>\n    </tr>\n    <tr>\n      <th>111</th>\n      <td>Дополнительный доход</td>\n      <td>Дополнительный доход</td>\n      <td>matched</td>\n      <td>99.00</td>\n      <td>subtypecf</td>\n      <td>Изменение ДП от УВ</td>\n    </tr>\n    <tr>\n      <th>112</th>\n      <td>Налог</td>\n      <td>Налог</td>\n      <td>matched</td>\n      <td>99.00</td>\n      <td>subtypecf</td>\n      <td>tax</td>\n    </tr>\n    <tr>\n      <th>113</th>\n      <td>ННП (для расчета по косв. Эффектам и ТРИЭ)</td>\n      <td>ННП для расчета косв. эффектов</td>\n      <td>not found</td>\n      <td>52.69</td>\n      <td>subtypecf</td>\n      <td>tax</td>\n    </tr>\n  </tbody>\n</table>\n<p>114 rows × 6 columns</p>\n</div>"
     },
     "execution_count": 13,
     "metadata": {},
     "output_type": "execute_result"
    }
   ],
   "source": [
    "a.mapping"
   ],
   "metadata": {
    "collapsed": false
   }
  },
  {
   "cell_type": "code",
   "execution_count": 12,
   "outputs": [
    {
     "data": {
      "text/plain": "                           programme          code  \\\n0                               ТОРО    U190001328   \n1                               ТОРО    U190001328   \n2                               ТОРО    U190001328   \n3                               ТОРО    U200001878   \n4                               ТОРО   U200001879    \n...                              ...           ...   \n8717  Формирование бизнес-кейсов БРД           NaN   \n8718  Формирование бизнес-кейсов БРД           NaN   \n8719  Формирование бизнес-кейсов БРД           NaN   \n8720  Формирование бизнес-кейсов БРД           NaN   \n8721  Формирование бизнес-кейсов БРД    U190001538   \n\n                                                project   typecf  \\\n0     ИТ компонент ТОРО Управление жизненным циклом ...  Затраты   \n1     ИТ компонент ТОРО Управление жизненным циклом ...  Затраты   \n2     ИТ компонент ТОРО Управление жизненным циклом ...  Затраты   \n3           Тиражирование Фазы 1 ТОРО БРД на ГПН-Хантос  Затраты   \n4         Тиражирование Фазы 1 ТОРО БРД на ГПН-Оренбург  Затраты   \n...                                                 ...      ...   \n8717                                       ОИЗ (Хоппер)     ТРИЭ   \n8718                                       ОИЗ (Хоппер)     ТРИЭ   \n8719                                       ОИЗ (Хоппер)     ТРИЭ   \n8720                                        Новые опции     ТРИЭ   \n8721               Выбор оптимальной системы разработки  Затраты   \n\n                         subtypecf  \\\n0     Капитальные затраты (CAPEX):   \n1     Операционные затраты (OPEX):   \n2                              ННП   \n3     Операционные затраты (OPEX):   \n4     Операционные затраты (OPEX):   \n...                            ...   \n8717                           NaN   \n8718                           NaN   \n8719                           NaN   \n8720                           NaN   \n8721                         CAPEX   \n\n                                                    dzo  year       value  \\\n0                                                    КЦ  2020  131.168000   \n1                                                    КЦ  2020    6.895000   \n2                                                    КЦ  2020    1.537000   \n3                                                    КЦ  2020    0.395000   \n4                                                    КЦ  2020    0.395000   \n...                                                 ...   ...         ...   \n8717                                АО Мессояханефтегаз  2030  226.270466   \n8718                            ООО Газпромнефть-Восток  2030   15.471797   \n8719                              ООО Газпромнефть-Ямал  2030   26.773409   \n8720  ОАО Славнефть-Мегионнефтегаз, ОАО Славнефть-Ме...  2030    0.496540   \n8721                                                NaN  2030   68.429984   \n\n     input_file  \n0     ТОРО.xlsx  \n1     ТОРО.xlsx  \n2     ТОРО.xlsx  \n3     ТОРО.xlsx  \n4     ТОРО.xlsx  \n...         ...  \n8717   АБ2.xlsm  \n8718   АБ2.xlsm  \n8719   АБ2.xlsm  \n8720   АБ2.xlsm  \n8721   АБ2.xlsm  \n\n[8722 rows x 9 columns]",
      "text/html": "<div>\n<style scoped>\n    .dataframe tbody tr th:only-of-type {\n        vertical-align: middle;\n    }\n\n    .dataframe tbody tr th {\n        vertical-align: top;\n    }\n\n    .dataframe thead th {\n        text-align: right;\n    }\n</style>\n<table border=\"1\" class=\"dataframe\">\n  <thead>\n    <tr style=\"text-align: right;\">\n      <th></th>\n      <th>programme</th>\n      <th>code</th>\n      <th>project</th>\n      <th>typecf</th>\n      <th>subtypecf</th>\n      <th>dzo</th>\n      <th>year</th>\n      <th>value</th>\n      <th>input_file</th>\n    </tr>\n  </thead>\n  <tbody>\n    <tr>\n      <th>0</th>\n      <td>ТОРО</td>\n      <td>U190001328</td>\n      <td>ИТ компонент ТОРО Управление жизненным циклом ...</td>\n      <td>Затраты</td>\n      <td>Капитальные затраты (CAPEX):</td>\n      <td>КЦ</td>\n      <td>2020</td>\n      <td>131.168000</td>\n      <td>ТОРО.xlsx</td>\n    </tr>\n    <tr>\n      <th>1</th>\n      <td>ТОРО</td>\n      <td>U190001328</td>\n      <td>ИТ компонент ТОРО Управление жизненным циклом ...</td>\n      <td>Затраты</td>\n      <td>Операционные затраты (OPEX):</td>\n      <td>КЦ</td>\n      <td>2020</td>\n      <td>6.895000</td>\n      <td>ТОРО.xlsx</td>\n    </tr>\n    <tr>\n      <th>2</th>\n      <td>ТОРО</td>\n      <td>U190001328</td>\n      <td>ИТ компонент ТОРО Управление жизненным циклом ...</td>\n      <td>Затраты</td>\n      <td>ННП</td>\n      <td>КЦ</td>\n      <td>2020</td>\n      <td>1.537000</td>\n      <td>ТОРО.xlsx</td>\n    </tr>\n    <tr>\n      <th>3</th>\n      <td>ТОРО</td>\n      <td>U200001878</td>\n      <td>Тиражирование Фазы 1 ТОРО БРД на ГПН-Хантос</td>\n      <td>Затраты</td>\n      <td>Операционные затраты (OPEX):</td>\n      <td>КЦ</td>\n      <td>2020</td>\n      <td>0.395000</td>\n      <td>ТОРО.xlsx</td>\n    </tr>\n    <tr>\n      <th>4</th>\n      <td>ТОРО</td>\n      <td>U200001879</td>\n      <td>Тиражирование Фазы 1 ТОРО БРД на ГПН-Оренбург</td>\n      <td>Затраты</td>\n      <td>Операционные затраты (OPEX):</td>\n      <td>КЦ</td>\n      <td>2020</td>\n      <td>0.395000</td>\n      <td>ТОРО.xlsx</td>\n    </tr>\n    <tr>\n      <th>...</th>\n      <td>...</td>\n      <td>...</td>\n      <td>...</td>\n      <td>...</td>\n      <td>...</td>\n      <td>...</td>\n      <td>...</td>\n      <td>...</td>\n      <td>...</td>\n    </tr>\n    <tr>\n      <th>8717</th>\n      <td>Формирование бизнес-кейсов БРД</td>\n      <td>NaN</td>\n      <td>ОИЗ (Хоппер)</td>\n      <td>ТРИЭ</td>\n      <td>NaN</td>\n      <td>АО Мессояханефтегаз</td>\n      <td>2030</td>\n      <td>226.270466</td>\n      <td>АБ2.xlsm</td>\n    </tr>\n    <tr>\n      <th>8718</th>\n      <td>Формирование бизнес-кейсов БРД</td>\n      <td>NaN</td>\n      <td>ОИЗ (Хоппер)</td>\n      <td>ТРИЭ</td>\n      <td>NaN</td>\n      <td>ООО Газпромнефть-Восток</td>\n      <td>2030</td>\n      <td>15.471797</td>\n      <td>АБ2.xlsm</td>\n    </tr>\n    <tr>\n      <th>8719</th>\n      <td>Формирование бизнес-кейсов БРД</td>\n      <td>NaN</td>\n      <td>ОИЗ (Хоппер)</td>\n      <td>ТРИЭ</td>\n      <td>NaN</td>\n      <td>ООО Газпромнефть-Ямал</td>\n      <td>2030</td>\n      <td>26.773409</td>\n      <td>АБ2.xlsm</td>\n    </tr>\n    <tr>\n      <th>8720</th>\n      <td>Формирование бизнес-кейсов БРД</td>\n      <td>NaN</td>\n      <td>Новые опции</td>\n      <td>ТРИЭ</td>\n      <td>NaN</td>\n      <td>ОАО Славнефть-Мегионнефтегаз, ОАО Славнефть-Ме...</td>\n      <td>2030</td>\n      <td>0.496540</td>\n      <td>АБ2.xlsm</td>\n    </tr>\n    <tr>\n      <th>8721</th>\n      <td>Формирование бизнес-кейсов БРД</td>\n      <td>U190001538</td>\n      <td>Выбор оптимальной системы разработки</td>\n      <td>Затраты</td>\n      <td>CAPEX</td>\n      <td>NaN</td>\n      <td>2030</td>\n      <td>68.429984</td>\n      <td>АБ2.xlsm</td>\n    </tr>\n  </tbody>\n</table>\n<p>8722 rows × 9 columns</p>\n</div>"
     },
     "execution_count": 12,
     "metadata": {},
     "output_type": "execute_result"
    }
   ],
   "source": [
    "a.fem"
   ],
   "metadata": {
    "collapsed": false
   }
  },
  {
   "cell_type": "code",
   "execution_count": 15,
   "outputs": [
    {
     "data": {
      "text/plain": "Index(['programme', 'code', 'project', 'typecf', 'subtypecf', 'dzo', 'year',\n       'value', 'input_file'],\n      dtype='object')"
     },
     "execution_count": 15,
     "metadata": {},
     "output_type": "execute_result"
    }
   ],
   "source": [
    "a.fem.columns"
   ],
   "metadata": {
    "collapsed": false
   }
  },
  {
   "cell_type": "code",
   "execution_count": 17,
   "outputs": [
    {
     "name": "stdout",
     "output_type": "stream",
     "text": [
      "programme\n",
      "code\n",
      "project\n",
      "typecf\n",
      "subtypecf\n",
      "dzo\n",
      "year\n",
      "value\n",
      "input_file\n"
     ]
    }
   ],
   "source": [
    "for i in a.fem.columns:\n",
    "    print(i)"
   ],
   "metadata": {
    "collapsed": false
   }
  },
  {
   "cell_type": "code",
   "execution_count": 19,
   "outputs": [],
   "source": [
    "test = a.mapping.loc[:, ['query', 'chosen']]"
   ],
   "metadata": {
    "collapsed": false
   }
  },
  {
   "cell_type": "code",
   "execution_count": 32,
   "outputs": [],
   "source": [
    "map = pd.Series(data=a.mapping['query'], index=a.mapping['chosen'])"
   ],
   "metadata": {
    "collapsed": false
   }
  },
  {
   "cell_type": "code",
   "execution_count": 99,
   "outputs": [],
   "source": [
    "fem = a.fem.copy()\n",
    "mapping = a.mapping.copy()\n",
    "\n",
    "mapping_column_names = ['query', 'chosen']\n",
    "temp_mapping = mapping.loc[mapping['column'] == 'programme',\n",
    "                           mapping_column_names].copy()\n"
   ],
   "metadata": {
    "collapsed": false
   }
  },
  {
   "cell_type": "code",
   "execution_count": 100,
   "outputs": [
    {
     "data": {
      "text/plain": "{'Долгосрочное развитие БРД': 'АБ1: ДР',\n 'Долгосрочное развитие БРД ': 'АБ1: ДР',\n 'Pro-Развитие': 'Pro-Р',\n 'Управление данными БРД': 'УПД',\n 'Управление добычей на текущих мощностях': 'АБ5: УДТМ',\n 'Когнитивная геология': 'КГ',\n 'Программа цифровизации газового бизнеса': 'ГБ',\n 'Цифровизация Сбыта Газа': 'CГ',\n 'АБ4: Реализация цикла ввода новых мощностей добычи': 'АБ4: РЦВНМ',\n 'Цифровая энергетика': 'ЦЭ',\n 'Цифровая экономика БРД': 'ЦЭк',\n 'Проектирование ввода мощностей': 'АБ3: ПВM',\n 'Формирование бизнес-кейсов БРД': 'АБ2: ФБК',\n 'ДТР': 'ДТР',\n 'ИПА': 'ИПА'}"
     },
     "execution_count": 100,
     "metadata": {},
     "output_type": "execute_result"
    }
   ],
   "source": [
    "test_dict = (temp_mapping[mapping_column_names]\n",
    "             .set_index(mapping_column_names[0])[mapping_column_names[1]]\n",
    "             .to_dict()\n",
    "             )\n",
    "for i in ['ИМА', 'ТОРО', 'ИРиОС', 'Экосистема ', 'УПРАВЛЕНИЕ ВЗАИМООТНОШЕНИЯМИ  С ПОДРЯДЧИКАМИ БРД']:\n",
    "    test_dict.pop(i)\n",
    "\n",
    "test_dict"
   ],
   "metadata": {
    "collapsed": false
   }
  },
  {
   "cell_type": "code",
   "execution_count": 101,
   "outputs": [
    {
     "data": {
      "text/plain": "     programme          code  \\\n0         ТОРО    U190001328   \n1         ТОРО    U190001328   \n2         ТОРО    U190001328   \n3         ТОРО    U200001878   \n4         ТОРО   U200001879    \n...        ...           ...   \n8717  АБ2: ФБК           NaN   \n8718  АБ2: ФБК           NaN   \n8719  АБ2: ФБК           NaN   \n8720  АБ2: ФБК           NaN   \n8721  АБ2: ФБК    U190001538   \n\n                                                project   typecf  \\\n0     ИТ компонент ТОРО Управление жизненным циклом ...  Затраты   \n1     ИТ компонент ТОРО Управление жизненным циклом ...  Затраты   \n2     ИТ компонент ТОРО Управление жизненным циклом ...  Затраты   \n3           Тиражирование Фазы 1 ТОРО БРД на ГПН-Хантос  Затраты   \n4         Тиражирование Фазы 1 ТОРО БРД на ГПН-Оренбург  Затраты   \n...                                                 ...      ...   \n8717                                       ОИЗ (Хоппер)     ТРИЭ   \n8718                                       ОИЗ (Хоппер)     ТРИЭ   \n8719                                       ОИЗ (Хоппер)     ТРИЭ   \n8720                                        Новые опции     ТРИЭ   \n8721               Выбор оптимальной системы разработки  Затраты   \n\n                         subtypecf  \\\n0     Капитальные затраты (CAPEX):   \n1     Операционные затраты (OPEX):   \n2                              ННП   \n3     Операционные затраты (OPEX):   \n4     Операционные затраты (OPEX):   \n...                            ...   \n8717                           NaN   \n8718                           NaN   \n8719                           NaN   \n8720                           NaN   \n8721                         CAPEX   \n\n                                                    dzo  year       value  \\\n0                                                    КЦ  2020  131.168000   \n1                                                    КЦ  2020    6.895000   \n2                                                    КЦ  2020    1.537000   \n3                                                    КЦ  2020    0.395000   \n4                                                    КЦ  2020    0.395000   \n...                                                 ...   ...         ...   \n8717                                АО Мессояханефтегаз  2030  226.270466   \n8718                            ООО Газпромнефть-Восток  2030   15.471797   \n8719                              ООО Газпромнефть-Ямал  2030   26.773409   \n8720  ОАО Славнефть-Мегионнефтегаз, ОАО Славнефть-Ме...  2030    0.496540   \n8721                                                NaN  2030   68.429984   \n\n     input_file  \n0     ТОРО.xlsx  \n1     ТОРО.xlsx  \n2     ТОРО.xlsx  \n3     ТОРО.xlsx  \n4     ТОРО.xlsx  \n...         ...  \n8717   АБ2.xlsm  \n8718   АБ2.xlsm  \n8719   АБ2.xlsm  \n8720   АБ2.xlsm  \n8721   АБ2.xlsm  \n\n[8722 rows x 9 columns]",
      "text/html": "<div>\n<style scoped>\n    .dataframe tbody tr th:only-of-type {\n        vertical-align: middle;\n    }\n\n    .dataframe tbody tr th {\n        vertical-align: top;\n    }\n\n    .dataframe thead th {\n        text-align: right;\n    }\n</style>\n<table border=\"1\" class=\"dataframe\">\n  <thead>\n    <tr style=\"text-align: right;\">\n      <th></th>\n      <th>programme</th>\n      <th>code</th>\n      <th>project</th>\n      <th>typecf</th>\n      <th>subtypecf</th>\n      <th>dzo</th>\n      <th>year</th>\n      <th>value</th>\n      <th>input_file</th>\n    </tr>\n  </thead>\n  <tbody>\n    <tr>\n      <th>0</th>\n      <td>ТОРО</td>\n      <td>U190001328</td>\n      <td>ИТ компонент ТОРО Управление жизненным циклом ...</td>\n      <td>Затраты</td>\n      <td>Капитальные затраты (CAPEX):</td>\n      <td>КЦ</td>\n      <td>2020</td>\n      <td>131.168000</td>\n      <td>ТОРО.xlsx</td>\n    </tr>\n    <tr>\n      <th>1</th>\n      <td>ТОРО</td>\n      <td>U190001328</td>\n      <td>ИТ компонент ТОРО Управление жизненным циклом ...</td>\n      <td>Затраты</td>\n      <td>Операционные затраты (OPEX):</td>\n      <td>КЦ</td>\n      <td>2020</td>\n      <td>6.895000</td>\n      <td>ТОРО.xlsx</td>\n    </tr>\n    <tr>\n      <th>2</th>\n      <td>ТОРО</td>\n      <td>U190001328</td>\n      <td>ИТ компонент ТОРО Управление жизненным циклом ...</td>\n      <td>Затраты</td>\n      <td>ННП</td>\n      <td>КЦ</td>\n      <td>2020</td>\n      <td>1.537000</td>\n      <td>ТОРО.xlsx</td>\n    </tr>\n    <tr>\n      <th>3</th>\n      <td>ТОРО</td>\n      <td>U200001878</td>\n      <td>Тиражирование Фазы 1 ТОРО БРД на ГПН-Хантос</td>\n      <td>Затраты</td>\n      <td>Операционные затраты (OPEX):</td>\n      <td>КЦ</td>\n      <td>2020</td>\n      <td>0.395000</td>\n      <td>ТОРО.xlsx</td>\n    </tr>\n    <tr>\n      <th>4</th>\n      <td>ТОРО</td>\n      <td>U200001879</td>\n      <td>Тиражирование Фазы 1 ТОРО БРД на ГПН-Оренбург</td>\n      <td>Затраты</td>\n      <td>Операционные затраты (OPEX):</td>\n      <td>КЦ</td>\n      <td>2020</td>\n      <td>0.395000</td>\n      <td>ТОРО.xlsx</td>\n    </tr>\n    <tr>\n      <th>...</th>\n      <td>...</td>\n      <td>...</td>\n      <td>...</td>\n      <td>...</td>\n      <td>...</td>\n      <td>...</td>\n      <td>...</td>\n      <td>...</td>\n      <td>...</td>\n    </tr>\n    <tr>\n      <th>8717</th>\n      <td>АБ2: ФБК</td>\n      <td>NaN</td>\n      <td>ОИЗ (Хоппер)</td>\n      <td>ТРИЭ</td>\n      <td>NaN</td>\n      <td>АО Мессояханефтегаз</td>\n      <td>2030</td>\n      <td>226.270466</td>\n      <td>АБ2.xlsm</td>\n    </tr>\n    <tr>\n      <th>8718</th>\n      <td>АБ2: ФБК</td>\n      <td>NaN</td>\n      <td>ОИЗ (Хоппер)</td>\n      <td>ТРИЭ</td>\n      <td>NaN</td>\n      <td>ООО Газпромнефть-Восток</td>\n      <td>2030</td>\n      <td>15.471797</td>\n      <td>АБ2.xlsm</td>\n    </tr>\n    <tr>\n      <th>8719</th>\n      <td>АБ2: ФБК</td>\n      <td>NaN</td>\n      <td>ОИЗ (Хоппер)</td>\n      <td>ТРИЭ</td>\n      <td>NaN</td>\n      <td>ООО Газпромнефть-Ямал</td>\n      <td>2030</td>\n      <td>26.773409</td>\n      <td>АБ2.xlsm</td>\n    </tr>\n    <tr>\n      <th>8720</th>\n      <td>АБ2: ФБК</td>\n      <td>NaN</td>\n      <td>Новые опции</td>\n      <td>ТРИЭ</td>\n      <td>NaN</td>\n      <td>ОАО Славнефть-Мегионнефтегаз, ОАО Славнефть-Ме...</td>\n      <td>2030</td>\n      <td>0.496540</td>\n      <td>АБ2.xlsm</td>\n    </tr>\n    <tr>\n      <th>8721</th>\n      <td>АБ2: ФБК</td>\n      <td>U190001538</td>\n      <td>Выбор оптимальной системы разработки</td>\n      <td>Затраты</td>\n      <td>CAPEX</td>\n      <td>NaN</td>\n      <td>2030</td>\n      <td>68.429984</td>\n      <td>АБ2.xlsm</td>\n    </tr>\n  </tbody>\n</table>\n<p>8722 rows × 9 columns</p>\n</div>"
     },
     "execution_count": 101,
     "metadata": {},
     "output_type": "execute_result"
    }
   ],
   "source": [
    "fem['programme'] = fem['programme'].map(test_dict).fillna(fem['programme'])\n",
    "fem"
   ],
   "metadata": {
    "collapsed": false
   }
  },
  {
   "cell_type": "code",
   "execution_count": 102,
   "outputs": [
    {
     "data": {
      "text/plain": "['ТОРО',\n 'ИРиОС',\n 'УПРАВЛЕНИЕ ВЗАИМООТНОШЕНИЯМИ  С ПОДРЯДЧИКАМИ БРД',\n 'АБ1: ДР',\n 'ИМА',\n 'Pro-Р',\n 'ДТР',\n 'УПД',\n 'АБ5: УДТМ',\n 'Экосистема ',\n 'ИПА',\n 'КГ',\n 'ГБ',\n 'CГ',\n 'АБ4: РЦВНМ',\n 'ЦЭ',\n 'ЦЭк',\n 'АБ3: ПВM',\n 'АБ2: ФБК']"
     },
     "execution_count": 102,
     "metadata": {},
     "output_type": "execute_result"
    }
   ],
   "source": [
    "fem.programme.unique().tolist()"
   ],
   "metadata": {
    "collapsed": false
   }
  },
  {
   "cell_type": "code",
   "execution_count": null,
   "outputs": [],
   "source": [],
   "metadata": {
    "collapsed": false
   }
  }
 ],
 "metadata": {
  "kernelspec": {
   "display_name": "Python 3",
   "language": "python",
   "name": "python3"
  },
  "language_info": {
   "codemirror_mode": {
    "name": "ipython",
    "version": 2
   },
   "file_extension": ".py",
   "mimetype": "text/x-python",
   "name": "python",
   "nbconvert_exporter": "python",
   "pygments_lexer": "ipython2",
   "version": "2.7.6"
  }
 },
 "nbformat": 4,
 "nbformat_minor": 0
}

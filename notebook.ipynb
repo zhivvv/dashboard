{
 "cells": [
  {
   "cell_type": "code",
   "execution_count": 48,
   "outputs": [],
   "source": [
    "import pandas as pd\n",
    "import numpy as np\n",
    "import main\n",
    "import os\n",
    "import fem\n",
    "import math"
   ],
   "metadata": {
    "collapsed": false,
    "pycharm": {
     "name": "#%%\n"
    }
   }
  },
  {
   "cell_type": "code",
   "execution_count": 2,
   "outputs": [
    {
     "name": "stdout",
     "output_type": "stream",
     "text": [
      "\n",
      "Files in \"/Users/ivanov.ev/Work/Dashboard/fem/processing/6+6\" displayed below\n",
      "--------------\n",
      "1. processing_09092022.xlsx\n",
      "--------------\n",
      "\n"
     ]
    }
   ],
   "source": [
    "path_to_folder = os.path.join(main.base_location, 'fem', 'processing', main.version)\n",
    "df = fem.select_table_to_filelist(folder_path_to_list=path_to_folder, sheet_name=main.sheet_name)"
   ],
   "metadata": {
    "collapsed": false,
    "pycharm": {
     "name": "#%%\n"
    }
   }
  },
  {
   "cell_type": "code",
   "execution_count": null,
   "outputs": [],
   "source": [
    "sheet_info_name = 'load'\n",
    "file_name = 'ЦЭк.xlsx'\n",
    "path_to_folder = os.path.join(main.base_location, 'fem', 'loading', main.version)\n",
    "\n",
    "header = ['key']\n",
    "years = [i for i in range(2015, 2051)]\n",
    "header += years\n",
    "\n",
    "final_df = None"
   ],
   "metadata": {
    "collapsed": false,
    "pycharm": {
     "name": "#%%\n"
    }
   }
  },
  {
   "cell_type": "code",
   "execution_count": null,
   "outputs": [],
   "source": [
    "info = pd.read_excel(io=os.path.join(path_to_folder, file_name),\n",
    "                   sheet_name=sheet_info_name\n",
    "                   )"
   ],
   "metadata": {
    "collapsed": false,
    "pycharm": {
     "name": "#%%\n"
    }
   }
  },
  {
   "cell_type": "code",
   "execution_count": null,
   "outputs": [],
   "source": [
    "for project_name ,sheet_name in zip(info.project, info.sheet):\n",
    "\n",
    "    df = fem.extract_fem_from_excel_file(file_path=os.path.join(path_to_folder, file_name),\n",
    "                                         sheet_name=sheet_name)\n",
    "    new_header = list(set(df.columns) & set(header))\n",
    "\n",
    "    df = df.loc[~df['key'].isnull(), new_header]"
   ],
   "metadata": {
    "collapsed": false,
    "pycharm": {
     "name": "#%%\n"
    }
   }
  }
 ],
 "metadata": {
  "kernelspec": {
   "display_name": "Python 3",
   "language": "python",
   "name": "python3"
  },
  "language_info": {
   "codemirror_mode": {
    "name": "ipython",
    "version": 2
   },
   "file_extension": ".py",
   "mimetype": "text/x-python",
   "name": "python",
   "nbconvert_exporter": "python",
   "pygments_lexer": "ipython2",
   "version": "2.7.6"
  }
 },
 "nbformat": 4,
 "nbformat_minor": 0
}
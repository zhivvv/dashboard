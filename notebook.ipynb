{
 "cells": [
  {
   "cell_type": "code",
   "execution_count": 1,
   "outputs": [
    {
     "ename": "TypeError",
     "evalue": "must be real number, not str",
     "output_type": "error",
     "traceback": [
      "\u001B[0;31m---------------------------------------------------------------------------\u001B[0m",
      "\u001B[0;31mTypeError\u001B[0m                                 Traceback (most recent call last)",
      "Input \u001B[0;32mIn [1]\u001B[0m, in \u001B[0;36m<cell line: 7>\u001B[0;34m()\u001B[0m\n\u001B[1;32m      4\u001B[0m mapping \u001B[38;5;241m=\u001B[39m [\u001B[38;5;124m'\u001B[39m\u001B[38;5;124mгорка\u001B[39m\u001B[38;5;124m'\u001B[39m, \u001B[38;5;124m'\u001B[39m\u001B[38;5;124mволк\u001B[39m\u001B[38;5;124m'\u001B[39m, \u001B[38;5;124m'\u001B[39m\u001B[38;5;124mзубы\u001B[39m\u001B[38;5;124m'\u001B[39m]\n\u001B[1;32m      5\u001B[0m query \u001B[38;5;241m=\u001B[39m \u001B[38;5;124m'\u001B[39m\u001B[38;5;124mгора\u001B[39m\u001B[38;5;124m'\u001B[39m\n\u001B[0;32m----> 7\u001B[0m a \u001B[38;5;241m=\u001B[39m \u001B[43mfunc\u001B[49m\u001B[38;5;241;43m.\u001B[39;49m\u001B[43mMatchingProcess\u001B[49m\u001B[43m(\u001B[49m\u001B[43mmapping\u001B[49m\u001B[43m)\u001B[49m\u001B[38;5;241;43m.\u001B[39;49m\u001B[43mfuzzmatch\u001B[49m\u001B[43m(\u001B[49m\u001B[43mquery\u001B[49m\u001B[43m)\u001B[49m\n",
      "File \u001B[0;32m~/PycharmProjects/Dashboard/func.py:244\u001B[0m, in \u001B[0;36mMatchingProcess.fuzzmatch\u001B[0;34m(self, input_list, score_cutoff_choice, show_results_in_terminal, show_matched)\u001B[0m\n\u001B[1;32m    242\u001B[0m     choices \u001B[38;5;241m=\u001B[39m \u001B[38;5;28mself\u001B[39m\u001B[38;5;241m.\u001B[39mchoices\u001B[38;5;241m.\u001B[39munique()\u001B[38;5;241m.\u001B[39mtolist()\n\u001B[1;32m    243\u001B[0m \u001B[38;5;28;01melse\u001B[39;00m:\n\u001B[0;32m--> 244\u001B[0m     choices \u001B[38;5;241m=\u001B[39m [x \u001B[38;5;28;01mfor\u001B[39;00m x \u001B[38;5;129;01min\u001B[39;00m \u001B[38;5;28mself\u001B[39m\u001B[38;5;241m.\u001B[39mchoices \u001B[38;5;28;01mif\u001B[39;00m math\u001B[38;5;241m.\u001B[39misnan(x) \u001B[38;5;129;01mis\u001B[39;00m \u001B[38;5;28;01mFalse\u001B[39;00m]\n\u001B[1;32m    246\u001B[0m \u001B[38;5;28;01mfor\u001B[39;00m name \u001B[38;5;129;01min\u001B[39;00m input_list_process:\n\u001B[1;32m    247\u001B[0m     processed_choice \u001B[38;5;241m=\u001B[39m match_process(query\u001B[38;5;241m=\u001B[39mname,\n\u001B[1;32m    248\u001B[0m                                      choices\u001B[38;5;241m=\u001B[39mchoices,\n\u001B[1;32m    249\u001B[0m                                      score_cutoff_choice\u001B[38;5;241m=\u001B[39mscore_cutoff_choice,\n\u001B[1;32m    250\u001B[0m                                      show_results_in_terminal\u001B[38;5;241m=\u001B[39mshow_results_in_terminal,\n\u001B[1;32m    251\u001B[0m                                      show_matched\u001B[38;5;241m=\u001B[39mshow_matched)\n",
      "File \u001B[0;32m~/PycharmProjects/Dashboard/func.py:244\u001B[0m, in \u001B[0;36m<listcomp>\u001B[0;34m(.0)\u001B[0m\n\u001B[1;32m    242\u001B[0m     choices \u001B[38;5;241m=\u001B[39m \u001B[38;5;28mself\u001B[39m\u001B[38;5;241m.\u001B[39mchoices\u001B[38;5;241m.\u001B[39munique()\u001B[38;5;241m.\u001B[39mtolist()\n\u001B[1;32m    243\u001B[0m \u001B[38;5;28;01melse\u001B[39;00m:\n\u001B[0;32m--> 244\u001B[0m     choices \u001B[38;5;241m=\u001B[39m [x \u001B[38;5;28;01mfor\u001B[39;00m x \u001B[38;5;129;01min\u001B[39;00m \u001B[38;5;28mself\u001B[39m\u001B[38;5;241m.\u001B[39mchoices \u001B[38;5;28;01mif\u001B[39;00m \u001B[43mmath\u001B[49m\u001B[38;5;241;43m.\u001B[39;49m\u001B[43misnan\u001B[49m\u001B[43m(\u001B[49m\u001B[43mx\u001B[49m\u001B[43m)\u001B[49m \u001B[38;5;129;01mis\u001B[39;00m \u001B[38;5;28;01mFalse\u001B[39;00m]\n\u001B[1;32m    246\u001B[0m \u001B[38;5;28;01mfor\u001B[39;00m name \u001B[38;5;129;01min\u001B[39;00m input_list_process:\n\u001B[1;32m    247\u001B[0m     processed_choice \u001B[38;5;241m=\u001B[39m match_process(query\u001B[38;5;241m=\u001B[39mname,\n\u001B[1;32m    248\u001B[0m                                      choices\u001B[38;5;241m=\u001B[39mchoices,\n\u001B[1;32m    249\u001B[0m                                      score_cutoff_choice\u001B[38;5;241m=\u001B[39mscore_cutoff_choice,\n\u001B[1;32m    250\u001B[0m                                      show_results_in_terminal\u001B[38;5;241m=\u001B[39mshow_results_in_terminal,\n\u001B[1;32m    251\u001B[0m                                      show_matched\u001B[38;5;241m=\u001B[39mshow_matched)\n",
      "\u001B[0;31mTypeError\u001B[0m: must be real number, not str"
     ]
    }
   ],
   "source": [
    "import func\n",
    "import settings\n",
    "\n",
    "mapping = ['горка', 'волк', 'зубы']\n",
    "query = 'гора'\n",
    "\n",
    "a = func.MatchingProcess(mapping).fuzzmatch(query)"
   ],
   "metadata": {
    "collapsed": false
   }
  },
  {
   "cell_type": "code",
   "execution_count": null,
   "outputs": [],
   "source": [],
   "metadata": {
    "collapsed": false
   }
  }
 ],
 "metadata": {
  "kernelspec": {
   "display_name": "Python 3",
   "language": "python",
   "name": "python3"
  },
  "language_info": {
   "codemirror_mode": {
    "name": "ipython",
    "version": 2
   },
   "file_extension": ".py",
   "mimetype": "text/x-python",
   "name": "python",
   "nbconvert_exporter": "python",
   "pygments_lexer": "ipython2",
   "version": "2.7.6"
  }
 },
 "nbformat": 4,
 "nbformat_minor": 0
}
